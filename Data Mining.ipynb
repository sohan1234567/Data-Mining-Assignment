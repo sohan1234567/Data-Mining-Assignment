{
 "cells": [
  {
   "cell_type": "markdown",
   "id": "5af7db9c",
   "metadata": {},
   "source": [
    "# Data Mining Assignment 2\n"
   ]
  },
  {
   "cell_type": "code",
   "execution_count": 1,
   "id": "3c2202f2",
   "metadata": {},
   "outputs": [],
   "source": [
    "#confusion matrix\n",
    "tp = 113\n",
    "fn = 9\n",
    "tn = 1179\n",
    "fp = 228"
   ]
  },
  {
   "cell_type": "code",
   "execution_count": 2,
   "id": "a58f293d",
   "metadata": {},
   "outputs": [
    {
     "name": "stdout",
     "output_type": "stream",
     "text": [
      "Classifier Accuracy: 0.8449967298888162\n"
     ]
    }
   ],
   "source": [
    "#Classifier Accuracy\n",
    "accuracy = (tp + tn) / (tp + tn + fp + fn)\n",
    "print(\"Classifier Accuracy:\", accuracy)"
   ]
  },
  {
   "cell_type": "code",
   "execution_count": 3,
   "id": "110ad8bb",
   "metadata": {},
   "outputs": [
    {
     "name": "stdout",
     "output_type": "stream",
     "text": [
      "Error Rate: 0.15500327011118378\n"
     ]
    }
   ],
   "source": [
    "#Error Rate\n",
    "error_rate = (fp + fn) / (tp + tn + fp + fn)\n",
    "print(\"Error Rate:\", error_rate)"
   ]
  },
  {
   "cell_type": "code",
   "execution_count": 4,
   "id": "1f4d70b7",
   "metadata": {},
   "outputs": [
    {
     "name": "stdout",
     "output_type": "stream",
     "text": [
      "Sensitivity: 0.9262295081967213\n"
     ]
    }
   ],
   "source": [
    "# Sensitivity (True Positive Rate or Recall)\n",
    "sensitivity = tp / (tp + fn)\n",
    "print(\"Sensitivity:\", sensitivity)"
   ]
  },
  {
   "cell_type": "code",
   "execution_count": 5,
   "id": "e44c56c0",
   "metadata": {},
   "outputs": [
    {
     "name": "stdout",
     "output_type": "stream",
     "text": [
      "Specificity: 0.837953091684435\n"
     ]
    }
   ],
   "source": [
    "#Specificity (True Negative Rate)\n",
    "specificity = tn / (tn + fp)\n",
    "print(\"Specificity:\", specificity)\n"
   ]
  },
  {
   "cell_type": "code",
   "execution_count": 6,
   "id": "ec2c7240",
   "metadata": {},
   "outputs": [
    {
     "name": "stdout",
     "output_type": "stream",
     "text": [
      "Precision: 0.3313782991202346\n"
     ]
    }
   ],
   "source": [
    "#Precision (Positive Predictive Value)\n",
    "precision = tp / (tp + fp)\n",
    "print(\"Precision:\", precision)\n"
   ]
  },
  {
   "cell_type": "code",
   "execution_count": null,
   "id": "8bbf38c0",
   "metadata": {},
   "outputs": [],
   "source": []
  },
  {
   "cell_type": "code",
   "execution_count": null,
   "id": "2adf83d8",
   "metadata": {},
   "outputs": [],
   "source": []
  }
 ],
 "metadata": {
  "kernelspec": {
   "display_name": "Python 3 (ipykernel)",
   "language": "python",
   "name": "python3"
  },
  "language_info": {
   "codemirror_mode": {
    "name": "ipython",
    "version": 3
   },
   "file_extension": ".py",
   "mimetype": "text/x-python",
   "name": "python",
   "nbconvert_exporter": "python",
   "pygments_lexer": "ipython3",
   "version": "3.10.9"
  }
 },
 "nbformat": 4,
 "nbformat_minor": 5
}
